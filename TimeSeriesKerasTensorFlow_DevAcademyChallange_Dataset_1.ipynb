{
 "cells": [
  {
   "cell_type": "code",
   "execution_count": 1,
   "metadata": {},
   "outputs": [],
   "source": [
    "import pandas as pd\n",
    "import numpy as np\n",
    "from matplotlib import pyplot as plt\n",
    "from matplotlib.pyplot import figure\n",
    "from sklearn import metrics"
   ]
  },
  {
   "cell_type": "code",
   "execution_count": 2,
   "metadata": {},
   "outputs": [
    {
     "data": {
      "text/html": [
       "<div>\n",
       "<style scoped>\n",
       "    .dataframe tbody tr th:only-of-type {\n",
       "        vertical-align: middle;\n",
       "    }\n",
       "\n",
       "    .dataframe tbody tr th {\n",
       "        vertical-align: top;\n",
       "    }\n",
       "\n",
       "    .dataframe thead th {\n",
       "        text-align: right;\n",
       "    }\n",
       "</style>\n",
       "<table border=\"1\" class=\"dataframe\">\n",
       "  <thead>\n",
       "    <tr style=\"text-align: right;\">\n",
       "      <th></th>\n",
       "      <th>index</th>\n",
       "      <th>data</th>\n",
       "      <th>valor</th>\n",
       "    </tr>\n",
       "  </thead>\n",
       "  <tbody>\n",
       "    <tr>\n",
       "      <th>0</th>\n",
       "      <td>0</td>\n",
       "      <td>2016-08-29</td>\n",
       "      <td>9.00</td>\n",
       "    </tr>\n",
       "    <tr>\n",
       "      <th>1</th>\n",
       "      <td>1</td>\n",
       "      <td>2016-08-30</td>\n",
       "      <td>1.60</td>\n",
       "    </tr>\n",
       "    <tr>\n",
       "      <th>2</th>\n",
       "      <td>2</td>\n",
       "      <td>2016-08-31</td>\n",
       "      <td>15311.70</td>\n",
       "    </tr>\n",
       "    <tr>\n",
       "      <th>3</th>\n",
       "      <td>3</td>\n",
       "      <td>2016-09-01</td>\n",
       "      <td>13932.67</td>\n",
       "    </tr>\n",
       "    <tr>\n",
       "      <th>4</th>\n",
       "      <td>4</td>\n",
       "      <td>2016-09-02</td>\n",
       "      <td>11535.45</td>\n",
       "    </tr>\n",
       "    <tr>\n",
       "      <th>5</th>\n",
       "      <td>5</td>\n",
       "      <td>2016-09-03</td>\n",
       "      <td>25864.32</td>\n",
       "    </tr>\n",
       "    <tr>\n",
       "      <th>6</th>\n",
       "      <td>6</td>\n",
       "      <td>2016-09-04</td>\n",
       "      <td>161344.35</td>\n",
       "    </tr>\n",
       "    <tr>\n",
       "      <th>7</th>\n",
       "      <td>7</td>\n",
       "      <td>2016-09-07</td>\n",
       "      <td>46380.31</td>\n",
       "    </tr>\n",
       "    <tr>\n",
       "      <th>8</th>\n",
       "      <td>8</td>\n",
       "      <td>2016-09-08</td>\n",
       "      <td>7341.94</td>\n",
       "    </tr>\n",
       "    <tr>\n",
       "      <th>9</th>\n",
       "      <td>9</td>\n",
       "      <td>2016-09-09</td>\n",
       "      <td>20184.57</td>\n",
       "    </tr>\n",
       "    <tr>\n",
       "      <th>10</th>\n",
       "      <td>10</td>\n",
       "      <td>2016-09-10</td>\n",
       "      <td>28359.77</td>\n",
       "    </tr>\n",
       "    <tr>\n",
       "      <th>11</th>\n",
       "      <td>11</td>\n",
       "      <td>2016-09-11</td>\n",
       "      <td>91701.65</td>\n",
       "    </tr>\n",
       "    <tr>\n",
       "      <th>12</th>\n",
       "      <td>12</td>\n",
       "      <td>2016-09-14</td>\n",
       "      <td>14836.67</td>\n",
       "    </tr>\n",
       "    <tr>\n",
       "      <th>13</th>\n",
       "      <td>13</td>\n",
       "      <td>2016-09-15</td>\n",
       "      <td>12446.20</td>\n",
       "    </tr>\n",
       "    <tr>\n",
       "      <th>14</th>\n",
       "      <td>14</td>\n",
       "      <td>2016-09-16</td>\n",
       "      <td>12083.45</td>\n",
       "    </tr>\n",
       "    <tr>\n",
       "      <th>15</th>\n",
       "      <td>15</td>\n",
       "      <td>2016-09-17</td>\n",
       "      <td>31864.65</td>\n",
       "    </tr>\n",
       "    <tr>\n",
       "      <th>16</th>\n",
       "      <td>16</td>\n",
       "      <td>2016-09-18</td>\n",
       "      <td>94610.57</td>\n",
       "    </tr>\n",
       "    <tr>\n",
       "      <th>17</th>\n",
       "      <td>17</td>\n",
       "      <td>2016-09-21</td>\n",
       "      <td>16865.56</td>\n",
       "    </tr>\n",
       "    <tr>\n",
       "      <th>18</th>\n",
       "      <td>18</td>\n",
       "      <td>2016-09-22</td>\n",
       "      <td>9134.95</td>\n",
       "    </tr>\n",
       "    <tr>\n",
       "      <th>19</th>\n",
       "      <td>19</td>\n",
       "      <td>2016-09-23</td>\n",
       "      <td>17733.30</td>\n",
       "    </tr>\n",
       "  </tbody>\n",
       "</table>\n",
       "</div>"
      ],
      "text/plain": [
       "    index        data      valor\n",
       "0       0  2016-08-29       9.00\n",
       "1       1  2016-08-30       1.60\n",
       "2       2  2016-08-31   15311.70\n",
       "3       3  2016-09-01   13932.67\n",
       "4       4  2016-09-02   11535.45\n",
       "5       5  2016-09-03   25864.32\n",
       "6       6  2016-09-04  161344.35\n",
       "7       7  2016-09-07   46380.31\n",
       "8       8  2016-09-08    7341.94\n",
       "9       9  2016-09-09   20184.57\n",
       "10     10  2016-09-10   28359.77\n",
       "11     11  2016-09-11   91701.65\n",
       "12     12  2016-09-14   14836.67\n",
       "13     13  2016-09-15   12446.20\n",
       "14     14  2016-09-16   12083.45\n",
       "15     15  2016-09-17   31864.65\n",
       "16     16  2016-09-18   94610.57\n",
       "17     17  2016-09-21   16865.56\n",
       "18     18  2016-09-22    9134.95\n",
       "19     19  2016-09-23   17733.30"
      ]
     },
     "execution_count": 2,
     "metadata": {},
     "output_type": "execute_result"
    }
   ],
   "source": [
    "data = pd.read_csv('Datas/DataTreinamentoDevAcademy/data_1__.csv', date_parser = 'data')\n",
    "data_test = pd.read_csv('Datas/DataTreinamentoDevAcademy/data_1__test.csv', date_parser = 'data')\n",
    "data.head(20)"
   ]
  },
  {
   "cell_type": "code",
   "execution_count": 3,
   "metadata": {},
   "outputs": [
    {
     "data": {
      "text/html": [
       "<div>\n",
       "<style scoped>\n",
       "    .dataframe tbody tr th:only-of-type {\n",
       "        vertical-align: middle;\n",
       "    }\n",
       "\n",
       "    .dataframe tbody tr th {\n",
       "        vertical-align: top;\n",
       "    }\n",
       "\n",
       "    .dataframe thead th {\n",
       "        text-align: right;\n",
       "    }\n",
       "</style>\n",
       "<table border=\"1\" class=\"dataframe\">\n",
       "  <thead>\n",
       "    <tr style=\"text-align: right;\">\n",
       "      <th></th>\n",
       "      <th>index</th>\n",
       "      <th>data</th>\n",
       "      <th>valor</th>\n",
       "    </tr>\n",
       "  </thead>\n",
       "  <tbody>\n",
       "    <tr>\n",
       "      <th>0</th>\n",
       "      <td>568</td>\n",
       "      <td>2018-10-03</td>\n",
       "      <td>15895.50</td>\n",
       "    </tr>\n",
       "    <tr>\n",
       "      <th>1</th>\n",
       "      <td>569</td>\n",
       "      <td>2018-10-04</td>\n",
       "      <td>9273.00</td>\n",
       "    </tr>\n",
       "    <tr>\n",
       "      <th>2</th>\n",
       "      <td>570</td>\n",
       "      <td>2018-10-05</td>\n",
       "      <td>16079.25</td>\n",
       "    </tr>\n",
       "    <tr>\n",
       "      <th>3</th>\n",
       "      <td>571</td>\n",
       "      <td>2018-10-06</td>\n",
       "      <td>29740.60</td>\n",
       "    </tr>\n",
       "    <tr>\n",
       "      <th>4</th>\n",
       "      <td>572</td>\n",
       "      <td>2018-10-07</td>\n",
       "      <td>45392.70</td>\n",
       "    </tr>\n",
       "  </tbody>\n",
       "</table>\n",
       "</div>"
      ],
      "text/plain": [
       "   index        data     valor\n",
       "0    568  2018-10-03  15895.50\n",
       "1    569  2018-10-04   9273.00\n",
       "2    570  2018-10-05  16079.25\n",
       "3    571  2018-10-06  29740.60\n",
       "4    572  2018-10-07  45392.70"
      ]
     },
     "execution_count": 3,
     "metadata": {},
     "output_type": "execute_result"
    }
   ],
   "source": [
    "data_test.head()"
   ]
  },
  {
   "cell_type": "code",
   "execution_count": 4,
   "metadata": {},
   "outputs": [
    {
     "name": "stdout",
     "output_type": "stream",
     "text": [
      "<class 'pandas.core.frame.DataFrame'>\n",
      "RangeIndex: 568 entries, 0 to 567\n",
      "Data columns (total 3 columns):\n",
      " #   Column  Non-Null Count  Dtype         \n",
      "---  ------  --------------  -----         \n",
      " 0   index   568 non-null    int64         \n",
      " 1   data    568 non-null    datetime64[ns]\n",
      " 2   valor   568 non-null    float64       \n",
      "dtypes: datetime64[ns](1), float64(1), int64(1)\n",
      "memory usage: 13.4 KB\n"
     ]
    }
   ],
   "source": [
    "data['data'] = data['data'].astype('datetime64[ns]')\n",
    "data.info()"
   ]
  },
  {
   "cell_type": "code",
   "execution_count": 5,
   "metadata": {},
   "outputs": [
    {
     "data": {
      "text/html": [
       "<div>\n",
       "<style scoped>\n",
       "    .dataframe tbody tr th:only-of-type {\n",
       "        vertical-align: middle;\n",
       "    }\n",
       "\n",
       "    .dataframe tbody tr th {\n",
       "        vertical-align: top;\n",
       "    }\n",
       "\n",
       "    .dataframe thead th {\n",
       "        text-align: right;\n",
       "    }\n",
       "</style>\n",
       "<table border=\"1\" class=\"dataframe\">\n",
       "  <thead>\n",
       "    <tr style=\"text-align: right;\">\n",
       "      <th></th>\n",
       "      <th>index</th>\n",
       "      <th>data</th>\n",
       "      <th>valor</th>\n",
       "    </tr>\n",
       "  </thead>\n",
       "  <tbody>\n",
       "    <tr>\n",
       "      <th>563</th>\n",
       "      <td>563</td>\n",
       "      <td>2018-09-26</td>\n",
       "      <td>13598.15</td>\n",
       "    </tr>\n",
       "    <tr>\n",
       "      <th>564</th>\n",
       "      <td>564</td>\n",
       "      <td>2018-09-27</td>\n",
       "      <td>9937.20</td>\n",
       "    </tr>\n",
       "    <tr>\n",
       "      <th>565</th>\n",
       "      <td>565</td>\n",
       "      <td>2018-09-28</td>\n",
       "      <td>21288.81</td>\n",
       "    </tr>\n",
       "    <tr>\n",
       "      <th>566</th>\n",
       "      <td>566</td>\n",
       "      <td>2018-09-29</td>\n",
       "      <td>20712.30</td>\n",
       "    </tr>\n",
       "    <tr>\n",
       "      <th>567</th>\n",
       "      <td>567</td>\n",
       "      <td>2018-09-30</td>\n",
       "      <td>85709.60</td>\n",
       "    </tr>\n",
       "  </tbody>\n",
       "</table>\n",
       "</div>"
      ],
      "text/plain": [
       "     index       data     valor\n",
       "563    563 2018-09-26  13598.15\n",
       "564    564 2018-09-27   9937.20\n",
       "565    565 2018-09-28  21288.81\n",
       "566    566 2018-09-29  20712.30\n",
       "567    567 2018-09-30  85709.60"
      ]
     },
     "execution_count": 5,
     "metadata": {},
     "output_type": "execute_result"
    }
   ],
   "source": [
    "data.tail()"
   ]
  },
  {
   "cell_type": "code",
   "execution_count": 6,
   "metadata": {},
   "outputs": [
    {
     "data": {
      "text/plain": [
       "<matplotlib.axes._subplots.AxesSubplot at 0x7f0ad72d0b00>"
      ]
     },
     "execution_count": 6,
     "metadata": {},
     "output_type": "execute_result"
    },
    {
     "data": {
      "image/png": "[encoded data removed]",
      "text/plain": [
       "<Figure size 1080x360 with 1 Axes>"
      ]
     },
     "metadata": {
      "needs_background": "light"
     },
     "output_type": "display_data"
    }
   ],
   "source": [
    "data['valor'].groupby(data['data'].dt.to_period('M')).sum().plot(kind='bar', figsize=(15,5))"
   ]
  },
  {
   "cell_type": "code",
   "execution_count": 7,
   "metadata": {},
   "outputs": [
    {
     "data": {
      "text/plain": [
       "<matplotlib.axes._subplots.AxesSubplot at 0x7f0ad516bcc0>"
      ]
     },
     "execution_count": 7,
     "metadata": {},
     "output_type": "execute_result"
    },
    {
     "data": {
      "image/png": "[encoded data removed]",
      "text/plain": [
       "<Figure size 1080x360 with 1 Axes>"
      ]
     },
     "metadata": {
      "needs_background": "light"
     },
     "output_type": "display_data"
    }
   ],
   "source": [
    "data['valor'].groupby(data['data'].dt.to_period('Y')).sum().plot(kind='bar', figsize=(15,5))"
   ]
  },
  {
   "cell_type": "code",
   "execution_count": 8,
   "metadata": {},
   "outputs": [],
   "source": [
    "data_train = data[['valor']].values\n",
    "#data_train = data.iloc[:, 2:3].values"
   ]
  },
  {
   "cell_type": "code",
   "execution_count": 9,
   "metadata": {},
   "outputs": [],
   "source": [
    "from sklearn.preprocessing import MinMaxScaler\n",
    "\n",
    "scaler = MinMaxScaler(feature_range=(0,1))\n",
    "data_train_scaled = scaler.fit_transform(np.array(data_train))"
   ]
  },
  {
   "cell_type": "code",
   "execution_count": 10,
   "metadata": {},
   "outputs": [],
   "source": [
    "previsores = []\n",
    "preco_real = []\n",
    "for i in range(5, len(data)):\n",
    "    previsores.append(data_train_scaled[i-5:i, 0])\n",
    "    preco_real.append(data_train_scaled[i, 0])"
   ]
  },
  {
   "cell_type": "code",
   "execution_count": 11,
   "metadata": {},
   "outputs": [],
   "source": [
    "previsores, preco_real = np.array(previsores), np.array(preco_real)"
   ]
  },
  {
   "cell_type": "code",
   "execution_count": 12,
   "metadata": {},
   "outputs": [
    {
     "data": {
      "text/html": [
       "<div>\n",
       "<style scoped>\n",
       "    .dataframe tbody tr th:only-of-type {\n",
       "        vertical-align: middle;\n",
       "    }\n",
       "\n",
       "    .dataframe tbody tr th {\n",
       "        vertical-align: top;\n",
       "    }\n",
       "\n",
       "    .dataframe thead th {\n",
       "        text-align: right;\n",
       "    }\n",
       "</style>\n",
       "<table border=\"1\" class=\"dataframe\">\n",
       "  <thead>\n",
       "    <tr style=\"text-align: right;\">\n",
       "      <th></th>\n",
       "      <th>0</th>\n",
       "      <th>1</th>\n",
       "      <th>2</th>\n",
       "      <th>3</th>\n",
       "      <th>4</th>\n",
       "      <th>5</th>\n",
       "    </tr>\n",
       "  </thead>\n",
       "  <tbody>\n",
       "    <tr>\n",
       "      <th>0</th>\n",
       "      <td>0.000046</td>\n",
       "      <td>0.000008</td>\n",
       "      <td>0.077984</td>\n",
       "      <td>0.070960</td>\n",
       "      <td>0.058751</td>\n",
       "      <td>0.131729</td>\n",
       "    </tr>\n",
       "    <tr>\n",
       "      <th>1</th>\n",
       "      <td>0.000008</td>\n",
       "      <td>0.077984</td>\n",
       "      <td>0.070960</td>\n",
       "      <td>0.058751</td>\n",
       "      <td>0.131729</td>\n",
       "      <td>0.821743</td>\n",
       "    </tr>\n",
       "    <tr>\n",
       "      <th>2</th>\n",
       "      <td>0.077984</td>\n",
       "      <td>0.070960</td>\n",
       "      <td>0.058751</td>\n",
       "      <td>0.131729</td>\n",
       "      <td>0.821743</td>\n",
       "      <td>0.236219</td>\n",
       "    </tr>\n",
       "    <tr>\n",
       "      <th>3</th>\n",
       "      <td>0.070960</td>\n",
       "      <td>0.058751</td>\n",
       "      <td>0.131729</td>\n",
       "      <td>0.821743</td>\n",
       "      <td>0.236219</td>\n",
       "      <td>0.037393</td>\n",
       "    </tr>\n",
       "    <tr>\n",
       "      <th>4</th>\n",
       "      <td>0.058751</td>\n",
       "      <td>0.131729</td>\n",
       "      <td>0.821743</td>\n",
       "      <td>0.236219</td>\n",
       "      <td>0.037393</td>\n",
       "      <td>0.102802</td>\n",
       "    </tr>\n",
       "  </tbody>\n",
       "</table>\n",
       "</div>"
      ],
      "text/plain": [
       "          0         1         2         3         4         5\n",
       "0  0.000046  0.000008  0.077984  0.070960  0.058751  0.131729\n",
       "1  0.000008  0.077984  0.070960  0.058751  0.131729  0.821743\n",
       "2  0.077984  0.070960  0.058751  0.131729  0.821743  0.236219\n",
       "3  0.070960  0.058751  0.131729  0.821743  0.236219  0.037393\n",
       "4  0.058751  0.131729  0.821743  0.236219  0.037393  0.102802"
      ]
     },
     "execution_count": 12,
     "metadata": {},
     "output_type": "execute_result"
    }
   ],
   "source": [
    "dt_values = pd.DataFrame(previsores)\n",
    "dt_values[5] = pd.DataFrame(preco_real)\n",
    "dt_values.head()"
   ]
  },
  {
   "cell_type": "code",
   "execution_count": 13,
   "metadata": {},
   "outputs": [
    {
     "data": {
      "text/plain": [
       "(563, 5, 1)"
      ]
     },
     "execution_count": 13,
     "metadata": {},
     "output_type": "execute_result"
    }
   ],
   "source": [
    "previsores = np.reshape(previsores, (previsores.shape[0], previsores.shape[1], 1))\n",
    "previsores.shape"
   ]
  },
  {
   "cell_type": "markdown",
   "metadata": {},
   "source": [
    "### using RNN with keras for predict Time Series"
   ]
  },
  {
   "cell_type": "code",
   "execution_count": 14,
   "metadata": {},
   "outputs": [
    {
     "name": "stderr",
     "output_type": "stream",
     "text": [
      "Using TensorFlow backend.\n"
     ]
    }
   ],
   "source": [
    "from keras.models import Sequential\n",
    "from keras.layers import Dense, Dropout, LSTM\n",
    "from keras.callbacks import EarlyStopping, ReduceLROnPlateau, ModelCheckpoint"
   ]
  },
  {
   "cell_type": "code",
   "execution_count": 15,
   "metadata": {},
   "outputs": [],
   "source": [
    "regressor = Sequential()\n",
    "regressor.add(LSTM(units = 10, return_sequences = True, input_shape = (previsores.shape[1], 1)))\n",
    "regressor.add(Dropout(0.3))\n",
    "\n",
    "regressor.add(LSTM(units = 5, return_sequences = True))\n",
    "regressor.add(Dropout(0.3))\n",
    "\n",
    "regressor.add(LSTM(units = 5, return_sequences = True))\n",
    "regressor.add(Dropout(0.3))\n",
    "\n",
    "regressor.add(LSTM(units = 5))\n",
    "regressor.add(Dropout(0.3))\n",
    "\n",
    "regressor.add(Dense(units = 1, activation = 'sigmoid'))"
   ]
  },
  {
   "cell_type": "code",
   "execution_count": 16,
   "metadata": {},
   "outputs": [],
   "source": [
    "regressor.compile(optimizer = 'rmsprop', loss = 'mean_squared_error',\n",
    "                  metrics = ['mean_absolute_error'])"
   ]
  },
  {
   "cell_type": "code",
   "execution_count": 17,
   "metadata": {},
   "outputs": [],
   "source": [
    "#es = EarlyStopping(monitor = 'loss', min_delta = 1e-10, patience = 10, verbose = 1)\n",
    "#rlr = ReduceLROnPlateau(monitor = 'loss', factor = 0.2, patience = 5, verbose = 1)\n",
    "#mcp = ModelCheckpoint(filepath = 'pesos.h5', monitor = 'loss', \n",
    "#                      save_best_only = True, verbose = 1)\n"
   ]
  },
  {
   "cell_type": "code",
   "execution_count": 18,
   "metadata": {},
   "outputs": [
    {
     "name": "stdout",
     "output_type": "stream",
     "text": [
      "Epoch 1/100\n",
      "563/563 [==============================] - 3s 5ms/step - loss: 0.1154 - mean_absolute_error: 0.3145\n",
      "Epoch 2/100\n",
      "563/563 [==============================] - 0s 459us/step - loss: 0.0684 - mean_absolute_error: 0.2384\n",
      "Epoch 3/100\n",
      "563/563 [==============================] - 0s 490us/step - loss: 0.0460 - mean_absolute_error: 0.1804\n",
      "Epoch 4/100\n",
      "563/563 [==============================] - 0s 498us/step - loss: 0.0413 - mean_absolute_error: 0.1563\n",
      "Epoch 5/100\n",
      "563/563 [==============================] - 0s 594us/step - loss: 0.0401 - mean_absolute_error: 0.1509\n",
      "Epoch 6/100\n",
      "563/563 [==============================] - 0s 583us/step - loss: 0.0384 - mean_absolute_error: 0.1460\n",
      "Epoch 7/100\n",
      "563/563 [==============================] - 0s 596us/step - loss: 0.0387 - mean_absolute_error: 0.1453\n",
      "Epoch 8/100\n",
      "563/563 [==============================] - 0s 591us/step - loss: 0.0406 - mean_absolute_error: 0.1501\n",
      "Epoch 9/100\n",
      "563/563 [==============================] - 0s 547us/step - loss: 0.0411 - mean_absolute_error: 0.1549\n",
      "Epoch 10/100\n",
      "563/563 [==============================] - 0s 597us/step - loss: 0.0392 - mean_absolute_error: 0.1540\n",
      "Epoch 11/100\n",
      "563/563 [==============================] - 0s 580us/step - loss: 0.0404 - mean_absolute_error: 0.1524\n",
      "Epoch 12/100\n",
      "563/563 [==============================] - 0s 548us/step - loss: 0.0386 - mean_absolute_error: 0.1479\n",
      "Epoch 13/100\n",
      "563/563 [==============================] - 0s 573us/step - loss: 0.0388 - mean_absolute_error: 0.1506\n",
      "Epoch 14/100\n",
      "563/563 [==============================] - 0s 565us/step - loss: 0.0378 - mean_absolute_error: 0.1473\n",
      "Epoch 15/100\n",
      "563/563 [==============================] - 0s 573us/step - loss: 0.0387 - mean_absolute_error: 0.1520\n",
      "Epoch 16/100\n",
      "563/563 [==============================] - 0s 594us/step - loss: 0.0386 - mean_absolute_error: 0.1510\n",
      "Epoch 17/100\n",
      "563/563 [==============================] - 0s 525us/step - loss: 0.0394 - mean_absolute_error: 0.1578\n",
      "Epoch 18/100\n",
      "563/563 [==============================] - 0s 528us/step - loss: 0.0357 - mean_absolute_error: 0.1440\n",
      "Epoch 19/100\n",
      "563/563 [==============================] - 0s 600us/step - loss: 0.0378 - mean_absolute_error: 0.1508\n",
      "Epoch 20/100\n",
      "563/563 [==============================] - 0s 577us/step - loss: 0.0357 - mean_absolute_error: 0.1432\n",
      "Epoch 21/100\n",
      "563/563 [==============================] - 0s 573us/step - loss: 0.0378 - mean_absolute_error: 0.1511\n",
      "Epoch 22/100\n",
      "563/563 [==============================] - 0s 563us/step - loss: 0.0366 - mean_absolute_error: 0.1450\n",
      "Epoch 23/100\n",
      "563/563 [==============================] - 0s 564us/step - loss: 0.0381 - mean_absolute_error: 0.1496\n",
      "Epoch 24/100\n",
      "563/563 [==============================] - 0s 590us/step - loss: 0.0371 - mean_absolute_error: 0.1471\n",
      "Epoch 25/100\n",
      "563/563 [==============================] - 0s 559us/step - loss: 0.0358 - mean_absolute_error: 0.1453\n",
      "Epoch 26/100\n",
      "563/563 [==============================] - 0s 553us/step - loss: 0.0364 - mean_absolute_error: 0.1494\n",
      "Epoch 27/100\n",
      "563/563 [==============================] - 0s 547us/step - loss: 0.0346 - mean_absolute_error: 0.1417\n",
      "Epoch 28/100\n",
      "563/563 [==============================] - 0s 576us/step - loss: 0.0338 - mean_absolute_error: 0.1388\n",
      "Epoch 29/100\n",
      "563/563 [==============================] - 0s 566us/step - loss: 0.0349 - mean_absolute_error: 0.1397\n",
      "Epoch 30/100\n",
      "563/563 [==============================] - 0s 557us/step - loss: 0.0333 - mean_absolute_error: 0.1351\n",
      "Epoch 31/100\n",
      "563/563 [==============================] - 0s 596us/step - loss: 0.0348 - mean_absolute_error: 0.1386\n",
      "Epoch 32/100\n",
      "563/563 [==============================] - 0s 602us/step - loss: 0.0344 - mean_absolute_error: 0.1378\n",
      "Epoch 33/100\n",
      "563/563 [==============================] - 0s 595us/step - loss: 0.0335 - mean_absolute_error: 0.1368\n",
      "Epoch 34/100\n",
      "563/563 [==============================] - 0s 549us/step - loss: 0.0342 - mean_absolute_error: 0.1375\n",
      "Epoch 35/100\n",
      "563/563 [==============================] - 0s 549us/step - loss: 0.0336 - mean_absolute_error: 0.1356\n",
      "Epoch 36/100\n",
      "563/563 [==============================] - 0s 595us/step - loss: 0.0321 - mean_absolute_error: 0.1333\n",
      "Epoch 37/100\n",
      "563/563 [==============================] - 0s 588us/step - loss: 0.0340 - mean_absolute_error: 0.1357\n",
      "Epoch 38/100\n",
      "563/563 [==============================] - 0s 595us/step - loss: 0.0338 - mean_absolute_error: 0.1356\n",
      "Epoch 39/100\n",
      "563/563 [==============================] - 0s 594us/step - loss: 0.0338 - mean_absolute_error: 0.1355\n",
      "Epoch 40/100\n",
      "563/563 [==============================] - 0s 598us/step - loss: 0.0329 - mean_absolute_error: 0.1343\n",
      "Epoch 41/100\n",
      "563/563 [==============================] - 0s 608us/step - loss: 0.0339 - mean_absolute_error: 0.1338\n",
      "Epoch 42/100\n",
      "563/563 [==============================] - 0s 605us/step - loss: 0.0335 - mean_absolute_error: 0.1337\n",
      "Epoch 43/100\n",
      "563/563 [==============================] - 0s 549us/step - loss: 0.0341 - mean_absolute_error: 0.1348\n",
      "Epoch 44/100\n",
      "563/563 [==============================] - 0s 619us/step - loss: 0.0319 - mean_absolute_error: 0.1311\n",
      "Epoch 45/100\n",
      "563/563 [==============================] - 0s 621us/step - loss: 0.0323 - mean_absolute_error: 0.1296\n",
      "Epoch 46/100\n",
      "563/563 [==============================] - 0s 557us/step - loss: 0.0319 - mean_absolute_error: 0.1304\n",
      "Epoch 47/100\n",
      "563/563 [==============================] - 0s 593us/step - loss: 0.0326 - mean_absolute_error: 0.1314\n",
      "Epoch 48/100\n",
      "563/563 [==============================] - 0s 597us/step - loss: 0.0315 - mean_absolute_error: 0.1265\n",
      "Epoch 49/100\n",
      "563/563 [==============================] - 0s 609us/step - loss: 0.0321 - mean_absolute_error: 0.1305\n",
      "Epoch 50/100\n",
      "563/563 [==============================] - 0s 554us/step - loss: 0.0325 - mean_absolute_error: 0.1336\n",
      "Epoch 51/100\n",
      "563/563 [==============================] - 0s 567us/step - loss: 0.0324 - mean_absolute_error: 0.1304\n",
      "Epoch 52/100\n",
      "563/563 [==============================] - 0s 554us/step - loss: 0.0320 - mean_absolute_error: 0.1315\n",
      "Epoch 53/100\n",
      "563/563 [==============================] - 0s 555us/step - loss: 0.0316 - mean_absolute_error: 0.1297\n",
      "Epoch 54/100\n",
      "563/563 [==============================] - 0s 567us/step - loss: 0.0322 - mean_absolute_error: 0.1314\n",
      "Epoch 55/100\n",
      "563/563 [==============================] - 0s 687us/step - loss: 0.0316 - mean_absolute_error: 0.1272\n",
      "Epoch 56/100\n",
      "563/563 [==============================] - 0s 619us/step - loss: 0.0314 - mean_absolute_error: 0.1293\n",
      "Epoch 57/100\n",
      "563/563 [==============================] - 0s 568us/step - loss: 0.0322 - mean_absolute_error: 0.1299\n",
      "Epoch 58/100\n",
      "563/563 [==============================] - 0s 561us/step - loss: 0.0312 - mean_absolute_error: 0.1280\n",
      "Epoch 59/100\n",
      "563/563 [==============================] - 0s 556us/step - loss: 0.0307 - mean_absolute_error: 0.1285\n",
      "Epoch 60/100\n",
      "563/563 [==============================] - 0s 510us/step - loss: 0.0313 - mean_absolute_error: 0.1275\n",
      "Epoch 61/100\n",
      "563/563 [==============================] - 0s 602us/step - loss: 0.0328 - mean_absolute_error: 0.1304\n",
      "Epoch 62/100\n",
      "563/563 [==============================] - 0s 598us/step - loss: 0.0310 - mean_absolute_error: 0.1286\n",
      "Epoch 63/100\n",
      "563/563 [==============================] - 0s 560us/step - loss: 0.0310 - mean_absolute_error: 0.1287\n",
      "Epoch 64/100\n",
      "563/563 [==============================] - 0s 546us/step - loss: 0.0320 - mean_absolute_error: 0.1322\n",
      "Epoch 65/100\n",
      "563/563 [==============================] - 0s 559us/step - loss: 0.0308 - mean_absolute_error: 0.1260\n",
      "Epoch 66/100\n",
      "563/563 [==============================] - 0s 526us/step - loss: 0.0320 - mean_absolute_error: 0.1307\n",
      "Epoch 67/100\n",
      "563/563 [==============================] - 0s 525us/step - loss: 0.0321 - mean_absolute_error: 0.1316\n",
      "Epoch 68/100\n",
      "563/563 [==============================] - 0s 551us/step - loss: 0.0310 - mean_absolute_error: 0.1278\n",
      "Epoch 69/100\n",
      "563/563 [==============================] - 0s 547us/step - loss: 0.0312 - mean_absolute_error: 0.1292\n",
      "Epoch 70/100\n",
      "563/563 [==============================] - 0s 547us/step - loss: 0.0308 - mean_absolute_error: 0.1274\n",
      "Epoch 71/100\n",
      "563/563 [==============================] - 0s 565us/step - loss: 0.0317 - mean_absolute_error: 0.1277\n",
      "Epoch 72/100\n"
     ]
    },
    {
     "name": "stdout",
     "output_type": "stream",
     "text": [
      "563/563 [==============================] - 0s 570us/step - loss: 0.0310 - mean_absolute_error: 0.1276\n",
      "Epoch 73/100\n",
      "563/563 [==============================] - 0s 610us/step - loss: 0.0318 - mean_absolute_error: 0.1293\n",
      "Epoch 74/100\n",
      "563/563 [==============================] - 0s 544us/step - loss: 0.0311 - mean_absolute_error: 0.1287\n",
      "Epoch 75/100\n",
      "563/563 [==============================] - 0s 600us/step - loss: 0.0312 - mean_absolute_error: 0.1314\n",
      "Epoch 76/100\n",
      "563/563 [==============================] - 0s 585us/step - loss: 0.0316 - mean_absolute_error: 0.1311\n",
      "Epoch 77/100\n",
      "563/563 [==============================] - 0s 592us/step - loss: 0.0310 - mean_absolute_error: 0.1270\n",
      "Epoch 78/100\n",
      "563/563 [==============================] - 0s 580us/step - loss: 0.0307 - mean_absolute_error: 0.1277\n",
      "Epoch 79/100\n",
      "563/563 [==============================] - 0s 503us/step - loss: 0.0310 - mean_absolute_error: 0.1264\n",
      "Epoch 80/100\n",
      "563/563 [==============================] - 0s 546us/step - loss: 0.0316 - mean_absolute_error: 0.1260\n",
      "Epoch 81/100\n",
      "563/563 [==============================] - 0s 544us/step - loss: 0.0310 - mean_absolute_error: 0.1268\n",
      "Epoch 82/100\n",
      "563/563 [==============================] - 0s 549us/step - loss: 0.0317 - mean_absolute_error: 0.1305\n",
      "Epoch 83/100\n",
      "563/563 [==============================] - 0s 554us/step - loss: 0.0305 - mean_absolute_error: 0.1282\n",
      "Epoch 84/100\n",
      "563/563 [==============================] - 0s 550us/step - loss: 0.0309 - mean_absolute_error: 0.1279\n",
      "Epoch 85/100\n",
      "563/563 [==============================] - 0s 525us/step - loss: 0.0304 - mean_absolute_error: 0.1262\n",
      "Epoch 86/100\n",
      "563/563 [==============================] - 0s 520us/step - loss: 0.0319 - mean_absolute_error: 0.1330\n",
      "Epoch 87/100\n",
      "563/563 [==============================] - 0s 552us/step - loss: 0.0313 - mean_absolute_error: 0.1287\n",
      "Epoch 88/100\n",
      "563/563 [==============================] - 0s 545us/step - loss: 0.0308 - mean_absolute_error: 0.1260\n",
      "Epoch 89/100\n",
      "563/563 [==============================] - 0s 545us/step - loss: 0.0312 - mean_absolute_error: 0.1274\n",
      "Epoch 90/100\n",
      "563/563 [==============================] - 0s 546us/step - loss: 0.0310 - mean_absolute_error: 0.1297\n",
      "Epoch 91/100\n",
      "563/563 [==============================] - 0s 551us/step - loss: 0.0306 - mean_absolute_error: 0.1259\n",
      "Epoch 92/100\n",
      "563/563 [==============================] - 0s 498us/step - loss: 0.0311 - mean_absolute_error: 0.1284\n",
      "Epoch 93/100\n",
      "563/563 [==============================] - 0s 546us/step - loss: 0.0303 - mean_absolute_error: 0.1251\n",
      "Epoch 94/100\n",
      "563/563 [==============================] - 0s 546us/step - loss: 0.0309 - mean_absolute_error: 0.1275\n",
      "Epoch 95/100\n",
      "563/563 [==============================] - 0s 557us/step - loss: 0.0306 - mean_absolute_error: 0.1261\n",
      "Epoch 96/100\n",
      "563/563 [==============================] - 0s 558us/step - loss: 0.0304 - mean_absolute_error: 0.1289\n",
      "Epoch 97/100\n",
      "563/563 [==============================] - 0s 552us/step - loss: 0.0308 - mean_absolute_error: 0.1269\n",
      "Epoch 98/100\n",
      "563/563 [==============================] - 0s 519us/step - loss: 0.0306 - mean_absolute_error: 0.1296\n",
      "Epoch 99/100\n",
      "563/563 [==============================] - 0s 533us/step - loss: 0.0309 - mean_absolute_error: 0.1290\n",
      "Epoch 100/100\n",
      "563/563 [==============================] - 0s 546us/step - loss: 0.0309 - mean_absolute_error: 0.1277\n"
     ]
    },
    {
     "data": {
      "text/plain": [
       "<keras.callbacks.callbacks.History at 0x7f0a85b572e8>"
      ]
     },
     "execution_count": 18,
     "metadata": {},
     "output_type": "execute_result"
    }
   ],
   "source": [
    "regressor.fit(previsores, preco_real, epochs = 100, batch_size = 16)\n",
    "              #callbacks = [es, rlr, mcp])"
   ]
  },
  {
   "cell_type": "code",
   "execution_count": 19,
   "metadata": {},
   "outputs": [],
   "source": [
    "data_total = pd.concat((data['valor'], data_test['valor']), axis = 0)\n",
    "entradas = data_total[len(data_total) - len(data_test) - 5:].values\n",
    "entradas = entradas.reshape(-1, 1)\n",
    "entradas = scaler.transform(entradas)\n",
    "preco_real_test = data_test[['valor']].values"
   ]
  },
  {
   "cell_type": "code",
   "execution_count": 20,
   "metadata": {},
   "outputs": [],
   "source": [
    "X_teste = []\n",
    "for i in range(5, (5+len(data_test))):\n",
    "    X_teste.append(entradas[i-5:i, 0])\n",
    "X_teste = np.array(X_teste)\n",
    "X_teste = np.reshape(X_teste, (X_teste.shape[0], X_teste.shape[1], 1))"
   ]
  },
  {
   "cell_type": "code",
   "execution_count": 21,
   "metadata": {},
   "outputs": [
    {
     "data": {
      "text/plain": [
       "(33019.332, 30263.337619047623)"
      ]
     },
     "execution_count": 21,
     "metadata": {},
     "output_type": "execute_result"
    }
   ],
   "source": [
    "previsoes = regressor.predict(X_teste)\n",
    "previsoes = scaler.inverse_transform(previsoes)\n",
    "\n",
    "previsoes.mean(), preco_real_test.mean()"
   ]
  },
  {
   "cell_type": "code",
   "execution_count": 22,
   "metadata": {},
   "outputs": [
    {
     "data": {
      "text/plain": [
       "array([[24106.541],\n",
       "       [23923.273],\n",
       "       [25222.402],\n",
       "       [28582.14 ],\n",
       "       [60887.8  ],\n",
       "       [24302.21 ],\n",
       "       [23825.457],\n",
       "       [24642.074],\n",
       "       [28938.21 ],\n",
       "       [49346.36 ],\n",
       "       [24318.729],\n",
       "       [24314.744],\n",
       "       [54266.977],\n",
       "       [24514.234],\n",
       "       [61632.08 ],\n",
       "       [24105.338],\n",
       "       [23730.367],\n",
       "       [24128.035],\n",
       "       [33707.77 ],\n",
       "       [60458.324],\n",
       "       [24452.863]], dtype=float32)"
      ]
     },
     "execution_count": 22,
     "metadata": {},
     "output_type": "execute_result"
    }
   ],
   "source": [
    "previsoes"
   ]
  },
  {
   "cell_type": "code",
   "execution_count": 23,
   "metadata": {},
   "outputs": [
    {
     "data": {
      "image/png": "[encoded data removed]",
      "text/plain": [
       "<Figure size 432x288 with 1 Axes>"
      ]
     },
     "metadata": {
      "needs_background": "light"
     },
     "output_type": "display_data"
    }
   ],
   "source": [
    "plt.plot(preco_real_test, color = 'red', label = 'Preço real')\n",
    "plt.plot(previsoes, color = 'blue', label = 'Previsões')\n",
    "plt.title('Previsão preço de arrecadação')\n",
    "plt.xlabel('Tempo')\n",
    "plt.ylabel('')\n",
    "plt.legend()\n",
    "plt.show()"
   ]
  }
 ],
 "metadata": {
  "kernelspec": {
   "display_name": "Python 3",
   "language": "python",
   "name": "python3"
  },
  "language_info": {
   "codemirror_mode": {
    "name": "ipython",
    "version": 3
   },
   "file_extension": ".py",
   "mimetype": "text/x-python",
   "name": "python",
   "nbconvert_exporter": "python",
   "pygments_lexer": "ipython3",
   "version": "3.6.9"
  }
 },
 "nbformat": 4,
 "nbformat_minor": 4
}
