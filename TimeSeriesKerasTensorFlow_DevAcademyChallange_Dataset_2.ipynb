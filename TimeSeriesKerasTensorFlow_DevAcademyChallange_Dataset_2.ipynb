{
 "cells": [
  {
   "cell_type": "code",
   "execution_count": 1,
   "metadata": {},
   "outputs": [],
   "source": [
    "import pandas as pd\n",
    "import numpy as np\n",
    "from matplotlib import pyplot as plt\n",
    "from matplotlib.pyplot import figure\n",
    "from sklearn import metrics"
   ]
  },
  {
   "cell_type": "code",
   "execution_count": 48,
   "metadata": {},
   "outputs": [
    {
     "data": {
      "text/html": [
       "<div>\n",
       "<style scoped>\n",
       "    .dataframe tbody tr th:only-of-type {\n",
       "        vertical-align: middle;\n",
       "    }\n",
       "\n",
       "    .dataframe tbody tr th {\n",
       "        vertical-align: top;\n",
       "    }\n",
       "\n",
       "    .dataframe thead th {\n",
       "        text-align: right;\n",
       "    }\n",
       "</style>\n",
       "<table border=\"1\" class=\"dataframe\">\n",
       "  <thead>\n",
       "    <tr style=\"text-align: right;\">\n",
       "      <th></th>\n",
       "      <th>index</th>\n",
       "      <th>data</th>\n",
       "      <th>valor</th>\n",
       "    </tr>\n",
       "  </thead>\n",
       "  <tbody>\n",
       "    <tr>\n",
       "      <th>0</th>\n",
       "      <td>0</td>\n",
       "      <td>2014-07-18</td>\n",
       "      <td>1.50</td>\n",
       "    </tr>\n",
       "    <tr>\n",
       "      <th>1</th>\n",
       "      <td>1</td>\n",
       "      <td>2014-08-05</td>\n",
       "      <td>83.20</td>\n",
       "    </tr>\n",
       "    <tr>\n",
       "      <th>2</th>\n",
       "      <td>2</td>\n",
       "      <td>2014-08-08</td>\n",
       "      <td>22.50</td>\n",
       "    </tr>\n",
       "    <tr>\n",
       "      <th>3</th>\n",
       "      <td>3</td>\n",
       "      <td>2014-08-11</td>\n",
       "      <td>15.91</td>\n",
       "    </tr>\n",
       "    <tr>\n",
       "      <th>4</th>\n",
       "      <td>4</td>\n",
       "      <td>2014-08-12</td>\n",
       "      <td>0.44</td>\n",
       "    </tr>\n",
       "  </tbody>\n",
       "</table>\n",
       "</div>"
      ],
      "text/plain": [
       "   index        data  valor\n",
       "0      0  2014-07-18   1.50\n",
       "1      1  2014-08-05  83.20\n",
       "2      2  2014-08-08  22.50\n",
       "3      3  2014-08-11  15.91\n",
       "4      4  2014-08-12   0.44"
      ]
     },
     "execution_count": 48,
     "metadata": {},
     "output_type": "execute_result"
    }
   ],
   "source": [
    "data = pd.read_csv('Datas/DataTreinamentoDevAcademy/data_2__.csv', date_parser = 'data')\n",
    "#data_test = pd.read_csv('Datas/DataTreinamentoDevAcademy/data_1__test.csv', date_parser = 'data')\n",
    "data.head()"
   ]
  },
  {
   "cell_type": "code",
   "execution_count": 5,
   "metadata": {},
   "outputs": [
    {
     "data": {
      "text/html": [
       "<div>\n",
       "<style scoped>\n",
       "    .dataframe tbody tr th:only-of-type {\n",
       "        vertical-align: middle;\n",
       "    }\n",
       "\n",
       "    .dataframe tbody tr th {\n",
       "        vertical-align: top;\n",
       "    }\n",
       "\n",
       "    .dataframe thead th {\n",
       "        text-align: right;\n",
       "    }\n",
       "</style>\n",
       "<table border=\"1\" class=\"dataframe\">\n",
       "  <thead>\n",
       "    <tr style=\"text-align: right;\">\n",
       "      <th></th>\n",
       "      <th>index</th>\n",
       "      <th>data</th>\n",
       "      <th>valor</th>\n",
       "    </tr>\n",
       "  </thead>\n",
       "  <tbody>\n",
       "    <tr>\n",
       "      <th>1537</th>\n",
       "      <td>1537</td>\n",
       "      <td>2018-10-27</td>\n",
       "      <td>19315.50</td>\n",
       "    </tr>\n",
       "    <tr>\n",
       "      <th>1538</th>\n",
       "      <td>1538</td>\n",
       "      <td>2018-10-28</td>\n",
       "      <td>12903.71</td>\n",
       "    </tr>\n",
       "    <tr>\n",
       "      <th>1539</th>\n",
       "      <td>1539</td>\n",
       "      <td>2018-10-29</td>\n",
       "      <td>11071.90</td>\n",
       "    </tr>\n",
       "    <tr>\n",
       "      <th>1540</th>\n",
       "      <td>1540</td>\n",
       "      <td>2018-10-30</td>\n",
       "      <td>11205.80</td>\n",
       "    </tr>\n",
       "    <tr>\n",
       "      <th>1541</th>\n",
       "      <td>1541</td>\n",
       "      <td>2018-10-31</td>\n",
       "      <td>12025.80</td>\n",
       "    </tr>\n",
       "  </tbody>\n",
       "</table>\n",
       "</div>"
      ],
      "text/plain": [
       "      index        data     valor\n",
       "1537   1537  2018-10-27  19315.50\n",
       "1538   1538  2018-10-28  12903.71\n",
       "1539   1539  2018-10-29  11071.90\n",
       "1540   1540  2018-10-30  11205.80\n",
       "1541   1541  2018-10-31  12025.80"
      ]
     },
     "execution_count": 5,
     "metadata": {},
     "output_type": "execute_result"
    }
   ],
   "source": [
    "data.tail()"
   ]
  },
  {
   "cell_type": "code",
   "execution_count": 52,
   "metadata": {},
   "outputs": [
    {
     "name": "stdout",
     "output_type": "stream",
     "text": [
      "<class 'pandas.core.frame.DataFrame'>\n",
      "RangeIndex: 1542 entries, 0 to 1541\n",
      "Data columns (total 3 columns):\n",
      " #   Column  Non-Null Count  Dtype         \n",
      "---  ------  --------------  -----         \n",
      " 0   index   1542 non-null   int64         \n",
      " 1   data    1542 non-null   datetime64[ns]\n",
      " 2   valor   1542 non-null   float64       \n",
      "dtypes: datetime64[ns](1), float64(1), int64(1)\n",
      "memory usage: 36.3 KB\n"
     ]
    }
   ],
   "source": [
    "data['data'] = data['data'].astype('datetime64[ns]')\n",
    "data.info()"
   ]
  },
  {
   "cell_type": "code",
   "execution_count": 10,
   "metadata": {},
   "outputs": [
    {
     "data": {
      "text/plain": [
       "<matplotlib.axes._subplots.AxesSubplot at 0x7f9475b10e48>"
      ]
     },
     "execution_count": 10,
     "metadata": {},
     "output_type": "execute_result"
    },
    {
     "data": {
      "image/png": "[encoded data removed]",
      "text/plain": [
       "<Figure size 1080x360 with 1 Axes>"
      ]
     },
     "metadata": {
      "needs_background": "light"
     },
     "output_type": "display_data"
    }
   ],
   "source": [
    "data['valor'].groupby(data['data'].dt.to_period('M')).sum().plot(kind='bar', figsize=(15,5))"
   ]
  },
  {
   "cell_type": "code",
   "execution_count": 17,
   "metadata": {},
   "outputs": [
    {
     "data": {
      "text/plain": [
       "<matplotlib.axes._subplots.AxesSubplot at 0x7f94754e5240>"
      ]
     },
     "execution_count": 17,
     "metadata": {},
     "output_type": "execute_result"
    },
    {
     "data": {
      "image/png": "[encoded data removed]",
      "text/plain": [
       "<Figure size 1080x360 with 1 Axes>"
      ]
     },
     "metadata": {
      "needs_background": "light"
     },
     "output_type": "display_data"
    }
   ],
   "source": [
    "data['valor'].groupby(data['data'].dt.to_period('M')).sum().plot(figsize=(15,5))"
   ]
  },
  {
   "cell_type": "markdown",
   "metadata": {},
   "source": [
    "### Filtering by values with minus discrepancy"
   ]
  },
  {
   "cell_type": "code",
   "execution_count": 60,
   "metadata": {},
   "outputs": [],
   "source": [
    "from datetime import date\n",
    "data = data[data['data'] > pd.Timestamp(date(2015,3,31))]"
   ]
  },
  {
   "cell_type": "code",
   "execution_count": 63,
   "metadata": {},
   "outputs": [
    {
     "data": {
      "text/plain": [
       "<matplotlib.axes._subplots.AxesSubplot at 0x7f947126ada0>"
      ]
     },
     "execution_count": 63,
     "metadata": {},
     "output_type": "execute_result"
    },
    {
     "data": {
      "image/png": "[encoded data removed]",
      "text/plain": [
       "<Figure size 1440x360 with 1 Axes>"
      ]
     },
     "metadata": {
      "needs_background": "light"
     },
     "output_type": "display_data"
    }
   ],
   "source": [
    "data['valor'].groupby(data['data'].dt.to_period('M')).sum().plot(figsize=(20,5))"
   ]
  },
  {
   "cell_type": "code",
   "execution_count": 64,
   "metadata": {},
   "outputs": [
    {
     "data": {
      "text/plain": [
       "1308"
      ]
     },
     "execution_count": 64,
     "metadata": {},
     "output_type": "execute_result"
    }
   ],
   "source": [
    "len(data)"
   ]
  },
  {
   "cell_type": "markdown",
   "metadata": {},
   "source": [
    "### Separate training and test"
   ]
  },
  {
   "cell_type": "code",
   "execution_count": 81,
   "metadata": {},
   "outputs": [],
   "source": [
    "data_training = data.iloc[:1008, :]\n",
    "data_test = data.iloc[1008:1308, :]"
   ]
  },
  {
   "cell_type": "code",
   "execution_count": 85,
   "metadata": {},
   "outputs": [],
   "source": [
    "data_training = data[['valor']].values\n",
    "#data_train = data.iloc[:, 2:3].values"
   ]
  },
  {
   "cell_type": "code",
   "execution_count": 88,
   "metadata": {},
   "outputs": [],
   "source": [
    "from sklearn.preprocessing import MinMaxScaler\n",
    "\n",
    "scaler = MinMaxScaler(feature_range=(0,1))\n",
    "data_train_scaled = scaler.fit_transform(np.array(data_training))"
   ]
  },
  {
   "cell_type": "code",
   "execution_count": 90,
   "metadata": {},
   "outputs": [],
   "source": [
    "previsores = []\n",
    "preco_real = []\n",
    "for i in range(70, len(data)):\n",
    "    previsores.append(data_train_scaled[i-70:i, 0])\n",
    "    preco_real.append(data_train_scaled[i, 0])"
   ]
  },
  {
   "cell_type": "code",
   "execution_count": 91,
   "metadata": {},
   "outputs": [],
   "source": [
    "previsores, preco_real = np.array(previsores), np.array(preco_real)"
   ]
  },
  {
   "cell_type": "code",
   "execution_count": 92,
   "metadata": {},
   "outputs": [
    {
     "data": {
      "text/html": [
       "<div>\n",
       "<style scoped>\n",
       "    .dataframe tbody tr th:only-of-type {\n",
       "        vertical-align: middle;\n",
       "    }\n",
       "\n",
       "    .dataframe tbody tr th {\n",
       "        vertical-align: top;\n",
       "    }\n",
       "\n",
       "    .dataframe thead th {\n",
       "        text-align: right;\n",
       "    }\n",
       "</style>\n",
       "<table border=\"1\" class=\"dataframe\">\n",
       "  <thead>\n",
       "    <tr style=\"text-align: right;\">\n",
       "      <th></th>\n",
       "      <th>0</th>\n",
       "      <th>1</th>\n",
       "      <th>2</th>\n",
       "      <th>3</th>\n",
       "      <th>4</th>\n",
       "      <th>5</th>\n",
       "      <th>6</th>\n",
       "      <th>7</th>\n",
       "      <th>8</th>\n",
       "      <th>9</th>\n",
       "      <th>...</th>\n",
       "      <th>61</th>\n",
       "      <th>62</th>\n",
       "      <th>63</th>\n",
       "      <th>64</th>\n",
       "      <th>65</th>\n",
       "      <th>66</th>\n",
       "      <th>67</th>\n",
       "      <th>68</th>\n",
       "      <th>69</th>\n",
       "      <th>70</th>\n",
       "    </tr>\n",
       "  </thead>\n",
       "  <tbody>\n",
       "    <tr>\n",
       "      <th>0</th>\n",
       "      <td>0.042554</td>\n",
       "      <td>0.096993</td>\n",
       "      <td>0.148938</td>\n",
       "      <td>0.686570</td>\n",
       "      <td>0.476101</td>\n",
       "      <td>0.268323</td>\n",
       "      <td>0.254226</td>\n",
       "      <td>0.264016</td>\n",
       "      <td>0.263845</td>\n",
       "      <td>0.346221</td>\n",
       "      <td>...</td>\n",
       "      <td>0.210864</td>\n",
       "      <td>0.265175</td>\n",
       "      <td>0.354598</td>\n",
       "      <td>0.683880</td>\n",
       "      <td>0.454282</td>\n",
       "      <td>0.521631</td>\n",
       "      <td>0.534883</td>\n",
       "      <td>0.183631</td>\n",
       "      <td>0.286545</td>\n",
       "      <td>0.268387</td>\n",
       "    </tr>\n",
       "    <tr>\n",
       "      <th>1</th>\n",
       "      <td>0.096993</td>\n",
       "      <td>0.148938</td>\n",
       "      <td>0.686570</td>\n",
       "      <td>0.476101</td>\n",
       "      <td>0.268323</td>\n",
       "      <td>0.254226</td>\n",
       "      <td>0.264016</td>\n",
       "      <td>0.263845</td>\n",
       "      <td>0.346221</td>\n",
       "      <td>0.589560</td>\n",
       "      <td>...</td>\n",
       "      <td>0.265175</td>\n",
       "      <td>0.354598</td>\n",
       "      <td>0.683880</td>\n",
       "      <td>0.454282</td>\n",
       "      <td>0.521631</td>\n",
       "      <td>0.534883</td>\n",
       "      <td>0.183631</td>\n",
       "      <td>0.286545</td>\n",
       "      <td>0.268387</td>\n",
       "      <td>0.359400</td>\n",
       "    </tr>\n",
       "    <tr>\n",
       "      <th>2</th>\n",
       "      <td>0.148938</td>\n",
       "      <td>0.686570</td>\n",
       "      <td>0.476101</td>\n",
       "      <td>0.268323</td>\n",
       "      <td>0.254226</td>\n",
       "      <td>0.264016</td>\n",
       "      <td>0.263845</td>\n",
       "      <td>0.346221</td>\n",
       "      <td>0.589560</td>\n",
       "      <td>0.521205</td>\n",
       "      <td>...</td>\n",
       "      <td>0.354598</td>\n",
       "      <td>0.683880</td>\n",
       "      <td>0.454282</td>\n",
       "      <td>0.521631</td>\n",
       "      <td>0.534883</td>\n",
       "      <td>0.183631</td>\n",
       "      <td>0.286545</td>\n",
       "      <td>0.268387</td>\n",
       "      <td>0.359400</td>\n",
       "      <td>0.600715</td>\n",
       "    </tr>\n",
       "    <tr>\n",
       "      <th>3</th>\n",
       "      <td>0.686570</td>\n",
       "      <td>0.476101</td>\n",
       "      <td>0.268323</td>\n",
       "      <td>0.254226</td>\n",
       "      <td>0.264016</td>\n",
       "      <td>0.263845</td>\n",
       "      <td>0.346221</td>\n",
       "      <td>0.589560</td>\n",
       "      <td>0.521205</td>\n",
       "      <td>0.208467</td>\n",
       "      <td>...</td>\n",
       "      <td>0.683880</td>\n",
       "      <td>0.454282</td>\n",
       "      <td>0.521631</td>\n",
       "      <td>0.534883</td>\n",
       "      <td>0.183631</td>\n",
       "      <td>0.286545</td>\n",
       "      <td>0.268387</td>\n",
       "      <td>0.359400</td>\n",
       "      <td>0.600715</td>\n",
       "      <td>0.681066</td>\n",
       "    </tr>\n",
       "    <tr>\n",
       "      <th>4</th>\n",
       "      <td>0.476101</td>\n",
       "      <td>0.268323</td>\n",
       "      <td>0.254226</td>\n",
       "      <td>0.264016</td>\n",
       "      <td>0.263845</td>\n",
       "      <td>0.346221</td>\n",
       "      <td>0.589560</td>\n",
       "      <td>0.521205</td>\n",
       "      <td>0.208467</td>\n",
       "      <td>0.164936</td>\n",
       "      <td>...</td>\n",
       "      <td>0.454282</td>\n",
       "      <td>0.521631</td>\n",
       "      <td>0.534883</td>\n",
       "      <td>0.183631</td>\n",
       "      <td>0.286545</td>\n",
       "      <td>0.268387</td>\n",
       "      <td>0.359400</td>\n",
       "      <td>0.600715</td>\n",
       "      <td>0.681066</td>\n",
       "      <td>0.655659</td>\n",
       "    </tr>\n",
       "  </tbody>\n",
       "</table>\n",
       "<p>5 rows × 71 columns</p>\n",
       "</div>"
      ],
      "text/plain": [
       "         0         1         2         3         4         5         6   \\\n",
       "0  0.042554  0.096993  0.148938  0.686570  0.476101  0.268323  0.254226   \n",
       "1  0.096993  0.148938  0.686570  0.476101  0.268323  0.254226  0.264016   \n",
       "2  0.148938  0.686570  0.476101  0.268323  0.254226  0.264016  0.263845   \n",
       "3  0.686570  0.476101  0.268323  0.254226  0.264016  0.263845  0.346221   \n",
       "4  0.476101  0.268323  0.254226  0.264016  0.263845  0.346221  0.589560   \n",
       "\n",
       "         7         8         9   ...        61        62        63        64  \\\n",
       "0  0.264016  0.263845  0.346221  ...  0.210864  0.265175  0.354598  0.683880   \n",
       "1  0.263845  0.346221  0.589560  ...  0.265175  0.354598  0.683880  0.454282   \n",
       "2  0.346221  0.589560  0.521205  ...  0.354598  0.683880  0.454282  0.521631   \n",
       "3  0.589560  0.521205  0.208467  ...  0.683880  0.454282  0.521631  0.534883   \n",
       "4  0.521205  0.208467  0.164936  ...  0.454282  0.521631  0.534883  0.183631   \n",
       "\n",
       "         65        66        67        68        69        70  \n",
       "0  0.454282  0.521631  0.534883  0.183631  0.286545  0.268387  \n",
       "1  0.521631  0.534883  0.183631  0.286545  0.268387  0.359400  \n",
       "2  0.534883  0.183631  0.286545  0.268387  0.359400  0.600715  \n",
       "3  0.183631  0.286545  0.268387  0.359400  0.600715  0.681066  \n",
       "4  0.286545  0.268387  0.359400  0.600715  0.681066  0.655659  \n",
       "\n",
       "[5 rows x 71 columns]"
      ]
     },
     "execution_count": 92,
     "metadata": {},
     "output_type": "execute_result"
    }
   ],
   "source": [
    "dt_values = pd.DataFrame(previsores)\n",
    "dt_values[70] = pd.DataFrame(preco_real)\n",
    "dt_values.head()"
   ]
  },
  {
   "cell_type": "code",
   "execution_count": 93,
   "metadata": {},
   "outputs": [
    {
     "data": {
      "text/plain": [
       "(1238, 70, 1)"
      ]
     },
     "execution_count": 93,
     "metadata": {},
     "output_type": "execute_result"
    }
   ],
   "source": [
    "previsores = np.reshape(previsores, (previsores.shape[0], previsores.shape[1], 1))\n",
    "previsores.shape"
   ]
  },
  {
   "cell_type": "code",
   "execution_count": null,
   "metadata": {},
   "outputs": [],
   "source": []
  }
 ],
 "metadata": {
  "kernelspec": {
   "display_name": "Python 3",
   "language": "python",
   "name": "python3"
  },
  "language_info": {
   "codemirror_mode": {
    "name": "ipython",
    "version": 3
   },
   "file_extension": ".py",
   "mimetype": "text/x-python",
   "name": "python",
   "nbconvert_exporter": "python",
   "pygments_lexer": "ipython3",
   "version": "3.6.9"
  }
 },
 "nbformat": 4,
 "nbformat_minor": 4
}
